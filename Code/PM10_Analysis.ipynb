{
  "nbformat": 4,
  "nbformat_minor": 0,
  "metadata": {
    "colab": {
      "provenance": []
    },
    "kernelspec": {
      "name": "python3",
      "display_name": "Python 3"
    },
    "language_info": {
      "name": "python"
    }
  },
  "cells": [
    {
      "cell_type": "markdown",
      "source": [
        "인하공업전문대학교\n",
        "\n",
        "컴퓨터정보과 3학년 B반\n",
        "\n",
        "201844045 김연욱\n",
        "\n",
        "3학년 2학기 빅데이터 교과목 기말고사 프로젝트\n",
        "\n",
        "주제 : 미세먼지 분석\n",
        "\n",
        "csv파일 주의 사항\n",
        "\n",
        "1. *의 값은 자료 획득율이 50% 이상이나 75% 미만인 도시의 월평균 값임\n",
        "\n",
        "2. **의 값은 자료 획득율이 50% 미만인 측정소의 월평균 값임\n",
        "\n",
        "3. 관측점 수치가 없는 경우는  장비교체, 장비점검 등으로 인한 결측"
      ],
      "metadata": {
        "id": "rldHH4QLB-bP"
      }
    },
    {
      "cell_type": "code",
      "source": [
        "#  폰트 설치\n",
        "import matplotlib.font_manager as fm\n",
        "\n",
        "!apt-get -qq -y install fonts-nanum > /dev/null\n",
        "fontpath = '/usr/share/fonts/truetype/nanum/NanumBarunGothic.ttf'\n",
        "font = fm.FontProperties(fname=fontpath, size=9)\n",
        "fm._rebuild()"
      ],
      "metadata": {
        "id": "6OQLeapaY-xk"
      },
      "execution_count": null,
      "outputs": []
    },
    {
      "cell_type": "code",
      "source": [
        "#런타임 재시작\n",
        "import os\n",
        "os.kill(os.getpid(), 9)"
      ],
      "metadata": {
        "id": "bKa4xpNbY_TC"
      },
      "execution_count": null,
      "outputs": []
    },
    {
      "cell_type": "code",
      "source": [
        "#  폰트 설정\n",
        "import matplotlib.pyplot as plt\n",
        "import matplotlib as mpl\n",
        "import matplotlib.font_manager as fm\n",
        "\n",
        "# 마이너스 표시 문제\n",
        "mpl.rcParams['axes.unicode_minus'] = False\n",
        "\t\n",
        "# 한글 폰트 설정\n",
        "path = '/usr/share/fonts/truetype/nanum/NanumGothicBold.ttf'\n",
        "font_name = fm.FontProperties(fname=path, size=18).get_name()\n",
        "plt.rc('font', family=font_name)\n",
        "fm._rebuild()"
      ],
      "metadata": {
        "id": "s86bUrKTY_cd"
      },
      "execution_count": null,
      "outputs": []
    },
    {
      "cell_type": "code",
      "source": [
        "# import문\n",
        "import pandas as pd\n",
        "import numpy as np"
      ],
      "metadata": {
        "id": "1NTJxGiBZfnI"
      },
      "execution_count": null,
      "outputs": []
    },
    {
      "cell_type": "code",
      "source": [
        "# 구글드라이브 연동\n",
        "from google.colab import drive \n",
        "drive.mount('/content/drive')"
      ],
      "metadata": {
        "colab": {
          "base_uri": "https://localhost:8080/"
        },
        "id": "MHqkG9zJZgNb",
        "outputId": "25538c44-fb5c-4c90-fdbb-8a4cdd73e0da"
      },
      "execution_count": null,
      "outputs": [
        {
          "output_type": "stream",
          "name": "stdout",
          "text": [
            "Mounted at /content/drive\n"
          ]
        }
      ]
    },
    {
      "cell_type": "code",
      "source": [
        "# 전역변수 선언부\n",
        "start_year = 2010\n",
        "end_year = 2020 # 2021년까지 존재하지만 11월, 12월 데이터 부재로 인한 제외\n",
        "df_dic = dict() # keys : 각 년도  values : 각 년도에 해당하는 csv파일의 DataFrame\n",
        "# month_list = [1, 2, 3, 4, 5, 6, 7, 8, 9, 10, 11, 12] # 1월부터 12월을 나타낼 리스트\n",
        "# pm10_list = [] # 입자의 크기가 10마이크로미터(마이크론) 이하인 먼지의 데이터를 나타낼 리스트"
      ],
      "metadata": {
        "id": "dn7qEirg-Dyn"
      },
      "execution_count": null,
      "outputs": []
    },
    {
      "cell_type": "code",
      "source": [
        "# 함수 정의\n",
        "def delStar(data): # 데이터상 별표(*) 없애는 함수\n",
        "  if (len(data) > 2):\n",
        "    return data.replace('*', '')\n",
        "  else:\n",
        "    return data\n",
        "\n",
        "def changeColumns(df, year): # 데이터프레임의 컬럼명을 변경하는 함수\n",
        "  df.columns = ['구분1', '구분2', '구분3', '구분4', '1월', '2월', '3월', '4월', '5월', '6월', '7월', '8월', '9월', '10월', '11월', '12월']\n",
        "  return df"
      ],
      "metadata": {
        "id": "LeKWlnR8S7yL"
      },
      "execution_count": null,
      "outputs": []
    },
    {
      "cell_type": "code",
      "source": [
        "# 2010년부터 2020년까지의 csv파일 불러오기 (2021년 csv파일도 존재는 하나 11월, 12월 데이터의 부재로 인해 제외)\n",
        "for year in range(start_year, end_year + 1):\n",
        "  df = pd.read_csv(f'/content/drive/MyDrive/빅데이터 프로젝트/미세먼지 자료/{year}.csv', encoding='cp949') # encoding을 안하면 오류남 -> cp949는 euc-kr의 확장버전\n",
        "  changeColumns(df, year) # 컬럼명 변경 함수 호출\n",
        "  df_dic[f'{year}년'] = df"
      ],
      "metadata": {
        "id": "23xgvMOWIYwh"
      },
      "execution_count": null,
      "outputs": []
    },
    {
      "cell_type": "code",
      "source": [
        "# 데이터 표준화 과정\n",
        "for df in df_dic.values():\n",
        "  for month in range(1, 13):\n",
        "    df[f'{month}월'] = df[f'{month}월'].astype(str) # 열의 데이터가 전부 정수일 경우 그 열은 타입이 int로 되어서 표준화? 정규화?를 위해 str타입으로 전부 변경\n",
        "    df[f'{month}월'] = df.apply(lambda x: delStar(x[f'{month}월']), axis = 1) # 별표(*) 없애기\n",
        "\n",
        "  df.replace('-', np.nan, inplace = True) # 누락 데이터 표준화\n",
        "  df.loc[:, '1월':'12월'] = df.loc[:, '1월':'12월'].astype(float) # 1월부터 12월의 열 타입을 float으로 변경 (mean()을 위해)"
      ],
      "metadata": {
        "id": "hdMygFHTCJQe"
      },
      "execution_count": null,
      "outputs": []
    },
    {
      "cell_type": "code",
      "source": [
        "# print(df_dic.keys())\n",
        "# print(df_dic.values())\n",
        "for test in df_dic:\n",
        "  print(test)\n",
        "  print(test == '2010년')"
      ],
      "metadata": {
        "colab": {
          "base_uri": "https://localhost:8080/"
        },
        "id": "TiFSd0lICShO",
        "outputId": "46f03004-b792-4ca6-b0cb-b558bc9e9a77"
      },
      "execution_count": null,
      "outputs": [
        {
          "output_type": "stream",
          "name": "stdout",
          "text": [
            "2010년\n",
            "True\n",
            "2011년\n",
            "False\n",
            "2012년\n",
            "False\n",
            "2013년\n",
            "False\n",
            "2014년\n",
            "False\n",
            "2015년\n",
            "False\n",
            "2016년\n",
            "False\n",
            "2017년\n",
            "False\n",
            "2018년\n",
            "False\n",
            "2019년\n",
            "False\n",
            "2020년\n",
            "False\n"
          ]
        }
      ]
    },
    {
      "cell_type": "code",
      "source": [
        "year_group = df_dic['2013년'].groupby(['구분2'])\n",
        "for key, group in year_group:\n",
        "    test = year_group.get_group(key).iloc[:, 3:].mean()\n",
        "    # print(test.index)\n",
        "    # print()\n",
        "    print('key : ', key)\n",
        "    print(year_group.get_group(key))\n",
        "    print(f'평균 : {test}')\n",
        "    print('타입 : ', type(group.iloc[0, 4]))\n",
        "    print('test타입 : ', type(test))"
      ],
      "metadata": {
        "id": "QpcxgKz_kRTa"
      },
      "execution_count": null,
      "outputs": []
    },
    {
      "cell_type": "code",
      "source": [
        "# 10주차 9p~ lineplot\n",
        "import seaborn as sns\n",
        "\n",
        "# for i,v in pd_series.items():\n",
        "#     print('인덱스 = %s : 값 %s' %(i,v))\n",
        "# [출처] 파이썬 pandas (1) Series 객체 다루기|작성자 은택이\n",
        "\n",
        "# 서울의 년도별 도시대기의 미세먼지 평균 변화량 구해보기\n",
        "my_df = pd.DataFrame(index = df_dic.keys())\n",
        "# print(my_df)\n",
        "for year in df_dic.keys():\n",
        "  grouped = df_dic[year].groupby(['구분1', '구분2'])\n",
        "  my_df.loc[year, '미세먼지 합'] = grouped.get_group((\"도시대기\", \"서울\")).sum()['1월':'12월'].sum()\n",
        "  my_df.loc[year, '데이터 개수'] = grouped.get_group((\"도시대기\", \"서울\")).count()['1월':'12월'].sum()\n",
        "  my_df.loc[year, '연 평균'] = round(my_df.loc[year, '미세먼지 합'] / my_df.loc[year, '데이터 개수'], 2)\n",
        "# print(my_df)  \n",
        "my_df.reset_index(inplace = True) # 행 인덱스 초기화\n",
        "my_df.rename(columns = {'index' : '년도'}, inplace = True)\n",
        "sns.lineplot(data = my_df, x = '년도' , y = '연 평균', marker = 'o', color = 'r', linestyle = '--', label = '도시대기')\n",
        "plt.xticks(rotation=45) # x축 회전 / x축 간격도 설정 가능할 듯\n",
        "print(my_df)"
      ],
      "metadata": {
        "colab": {
          "base_uri": "https://localhost:8080/",
          "height": 519
        },
        "id": "zSt-Gb0rG9Nz",
        "outputId": "7146c462-3caf-446e-dff9-25f2f8bad938"
      },
      "execution_count": null,
      "outputs": [
        {
          "output_type": "stream",
          "name": "stdout",
          "text": [
            "       년도   미세먼지 합  데이터 개수   연 평균\n",
            "0   2010년  14644.0   299.0  48.98\n",
            "1   2011년  14282.0   300.0  47.61\n",
            "2   2012년  12339.0   300.0  41.13\n",
            "3   2013년  13391.0   300.0  44.64\n",
            "4   2014년  13812.0   300.0  46.04\n",
            "5   2015년  13659.0   300.0  45.53\n",
            "6   2016년  14342.0   300.0  47.81\n",
            "7   2017년  13131.0   300.0  43.77\n",
            "8   2018년  11970.0   300.0  39.90\n",
            "9   2019년  12485.0   299.0  41.76\n",
            "10  2020년  10600.0   300.0  35.33\n"
          ]
        },
        {
          "output_type": "display_data",
          "data": {
            "text/plain": [
              "<Figure size 432x288 with 1 Axes>"
            ],
            "image/png": "[encoded data removed]"
          },
          "metadata": {
            "needs_background": "light"
          }
        }
      ]
    },
    {
      "cell_type": "code",
      "source": [
        "# 10주차 14p barplot\n",
        "\n",
        "# 2010년 구분2를 기준으로 각 지역 도시대기 미세먼지 데이터\n",
        "###################\n",
        "# 2010년 각 지역의 연 평균\n",
        "grouped = df_dic['2010년'].groupby(['구분1'])\n",
        "print(grouped.get_group('도시대기'))\n",
        "\n",
        "my_df = pd.DataFrame(index = grouped.get_group('도시대기')['구분2'].unique()) # columns = ['미세먼지 합', '데이터 개수', '평균']\n",
        "# for area in my_df.index:\n",
        "#   my_df.loc[area, '미세먼지 합'] = grouped.get_group('도시대기')[grouped.get_group('도시대기')['구분2'] == area].sum()['1월':'12월'].sum()\n",
        "#   my_df.loc[area, '데이터 개수'] = grouped.get_group('도시대기')[grouped.get_group('도시대기')['구분2'] == area].count()['1월':'12월'].sum()\n",
        "#   my_df.loc[area, '평균'] = round(my_df.loc[area, '미세먼지 합'] / my_df.loc[area, '데이터 개수'], 2)\n",
        "#   my_df.loc[area, '최대값'] = grouped.get_group('도시대기')[grouped.get_group('도시대기')['구분2'] == area].max()['1월':'12월'].max()\n",
        "#   my_df.loc[area, '최소값'] = grouped.get_group('도시대기')[grouped.get_group('도시대기')['구분2'] == area].min()['1월':'12월'].min()\n",
        "for area in my_df.index:\n",
        "  my_df.loc[area, '미세먼지 합'] = grouped.get_group('도시대기')[grouped.get_group('도시대기')['구분2'] == area].sum()['1월'].sum() # -> 1월만 할거면 맨 뒤 sum 필요 없음\n",
        "  my_df.loc[area, '데이터 개수'] = grouped.get_group('도시대기')[grouped.get_group('도시대기')['구분2'] == area].count()['1월'].sum() # -> 1월만 할거면 맨 뒤 sum 필요 없음\n",
        "  my_df.loc[area, '평균'] = round(my_df.loc[area, '미세먼지 합'] / my_df.loc[area, '데이터 개수'], 2)\n",
        "  my_df.loc[area, '최대값'] = grouped.get_group('도시대기')[grouped.get_group('도시대기')['구분2'] == area].max()['1월'].max()\n",
        "  my_df.loc[area, '최소값'] = grouped.get_group('도시대기')[grouped.get_group('도시대기')['구분2'] == area].min()['1월'].min()\n",
        "###################\n",
        "sns.barplot(data = grouped.get_group('도시대기'), x = '구분2', y = '1월')\n",
        "print(my_df)"
      ],
      "metadata": {
        "colab": {
          "base_uri": "https://localhost:8080/",
          "height": 1000
        },
        "id": "RMda4u3Fe2h7",
        "outputId": "41b2d240-9393-44c6-c434-91ed1998db2a"
      },
      "execution_count": null,
      "outputs": [
        {
          "output_type": "stream",
          "name": "stdout",
          "text": [
            "      구분1 구분2   구분3   구분4    1월    2월    3월    4월    5월    6월    7월    8월  \\\n",
            "0    도시대기  서울    중구  서소문동  58.0  50.0  65.0  51.0  57.0  48.0  30.0  31.0   \n",
            "1    도시대기  서울   종로구   효제동  59.0  50.0  57.0  49.0  56.0  56.0  42.0  39.0   \n",
            "2    도시대기  서울   중랑구   면목동  60.0  48.0  63.0  49.0  55.0  50.0  31.0  32.0   \n",
            "3    도시대기  서울  동대문구   용두동  63.0  52.0  65.0  51.0  58.0  53.0  33.0  33.0   \n",
            "4    도시대기  서울   은평구   불광동  52.0  46.0  60.0  48.0  56.0  48.0  32.0  31.0   \n",
            "..    ...  ..   ...   ...   ...   ...   ...   ...   ...   ...   ...   ...   \n",
            "235  도시대기  경남    양산   북부동  35.0  34.0  54.0  36.0  42.0  33.0  28.0  27.0   \n",
            "236  도시대기  경남    양산   웅상읍  36.0  33.0  52.0  36.0  44.0  36.0  25.0  28.0   \n",
            "237  도시대기  제주    제주   이도동  45.0  44.0  76.0  55.0  68.0  44.0  35.0  32.0   \n",
            "238  도시대기  제주    제주    연동  61.0  42.0  66.0  44.0  53.0  34.0  27.0  26.0   \n",
            "239  도시대기  제주   서귀포   동홍동  56.0  38.0  70.0  43.0  52.0  34.0  30.0  27.0   \n",
            "\n",
            "       9월   10월    11월   12월  \n",
            "0    25.0  40.0   70.0  63.0  \n",
            "1    31.0  44.0   75.0  44.0  \n",
            "2    24.0  41.0   75.0  66.0  \n",
            "3    27.0  44.0   76.0  68.0  \n",
            "4    23.0  36.0   68.0  62.0  \n",
            "..    ...   ...    ...   ...  \n",
            "235   NaN  37.0   59.0  56.0  \n",
            "236  26.0  33.0   47.0  45.0  \n",
            "237  29.0  51.0  102.0  49.0  \n",
            "238  29.0  45.0   81.0  54.0  \n",
            "239  28.0  38.0   77.0  55.0  \n",
            "\n",
            "[240 rows x 16 columns]\n",
            "    미세먼지 합  데이터 개수     평균    최대값   최소값\n",
            "서울  1474.0    25.0  58.96   64.0  49.0\n",
            "부산   808.0    17.0  47.53   69.0  31.0\n",
            "대구   619.0    11.0  56.27   81.0  38.0\n",
            "인천   966.0    15.0  64.40   76.0  53.0\n",
            "광주   322.0     7.0  46.00   59.0  39.0\n",
            "대전   340.0     7.0  48.57   60.0  44.0\n",
            "울산   594.0    13.0  45.69   53.0  37.0\n",
            "경기  4459.0    65.0  68.60  111.0  46.0\n",
            "강원   439.0     7.0  62.71   89.0  43.0\n",
            "충북   537.0     7.0  76.71   91.0  62.0\n",
            "충남   313.0     7.0  44.71   57.0  39.0\n",
            "전북   548.0    10.0  54.80   69.0  39.0\n",
            "전남   643.0    14.0  45.93   55.0  39.0\n",
            "경북   553.0    11.0  50.27   74.0  38.0\n",
            "경남   717.0    16.0  44.81   55.0  32.0\n",
            "제주   162.0     3.0  54.00   61.0  45.0\n"
          ]
        },
        {
          "output_type": "display_data",
          "data": {
            "text/plain": [
              "<Figure size 432x288 with 1 Axes>"
            ],
            "image/png": "[encoded data removed]"
          },
          "metadata": {
            "needs_background": "light"
          }
        }
      ]
    },
    {
      "cell_type": "code",
      "source": [
        "# 10주차 17p scatterplot\n",
        "\n",
        "# data쓰면 해당 column명으로 가능하고 data안쓰면 데이터프레임까지 써서 쓰면 됨\n",
        "sns.scatterplot(data = df_dic['2010년'], x = '1월', y = df_dic['2010년']['4월'])\n",
        "sns.scatterplot(data = df_dic['2010년'], x = '1월', y = df_dic['2011년']['4월'])"
      ],
      "metadata": {
        "colab": {
          "base_uri": "https://localhost:8080/",
          "height": 296
        },
        "id": "4kftaaVUoc6z",
        "outputId": "44188937-9767-4f38-8639-df2521432dd0"
      },
      "execution_count": null,
      "outputs": [
        {
          "output_type": "execute_result",
          "data": {
            "text/plain": [
              "<matplotlib.axes._subplots.AxesSubplot at 0x7faa35ab2210>"
            ]
          },
          "metadata": {},
          "execution_count": 16
        },
        {
          "output_type": "display_data",
          "data": {
            "text/plain": [
              "<Figure size 432x288 with 1 Axes>"
            ],
            "image/png": "[encoded data removed]"
          },
          "metadata": {
            "needs_background": "light"
          }
        }
      ]
    },
    {
      "cell_type": "code",
      "source": [
        "### 공공데이터 날씨 api 사용\n",
        "### 이 부분은 일별 데이터 수집으로 예측 모델 만들 때 쓰면 좋을 것 같음\n",
        "import pandas as pd\n",
        "import requests\n",
        "import json\n",
        "\n",
        "serviceKey = 'lPVMMG%2FF9VQezvJx592%2Fx455LpJ4FjQRXjIlOnLcVEARZcvAV5Ul0%2B7wwrhyTnw6CIFwE0Z5gS2ttyEwSNn2OA%3D%3D' # 일반 인증키\n",
        "area_df = pd.read_csv('/content/drive/MyDrive/빅데이터 프로젝트/날씨 자료/지역.csv', encoding='cp949') # 날씨 측정 지점코드, 지점명, 관리관서가 담긴 csv파일\n",
        "df = pd.DataFrame() # csv로 저장할 DataFrame\n",
        "\n",
        "def searchAreaWeather(area):\n",
        "  return area\n",
        "\n",
        "for pageNo in range(1, 20):\n",
        "  url = 'http://apis.data.go.kr/1360000/AsosDalyInfoService/getWthrDataList'\n",
        "  url += '?serviceKey=' + serviceKey\n",
        "  url += '&pageNo=' + str(pageNo)\n",
        "  url += '&numOfRows=900' # 1000미만 가능\n",
        "  url += '&dataType=JSON'\n",
        "  url += '&dataCd=ASOS'\n",
        "  url += '&dateCd=DAY'\n",
        "  url += '&startDt=20100101'\n",
        "  url += '&endDt=20201231'\n",
        "  url += '&stnIds=108'\n",
        "  response = requests.get(url)\n",
        "  jsonData = json.loads(response.text)\n",
        "  if(jsonData['response']['header']['resultMsg'] == 'NO_DATA'): break # 더이상 데이터가 없는 경우\n",
        "  json_df = pd.json_normalize(jsonData['response']['body']['items']['item'])\n",
        "  df = pd.concat([df, json_df[['stnNm', 'tm', 'sumRn', 'avgWs', 'maxWd']]], join = 'outer', ignore_index = True) # join : default | ignore_index : 기존 인덱스 무시하고 새로운 행 인덱스 설정\n",
        "\n",
        "print(df)\n",
        "# stnNm : 지점명(종관기상관측 지점명)\n",
        "# tm : 일시\n",
        "# sumRn : 일강수량(mm)\n",
        "# avgWs : 평균 풍속(m/s)\n",
        "# maxWd : 최다 풍향(16방위)"
      ],
      "metadata": {
        "colab": {
          "base_uri": "https://localhost:8080/"
        },
        "id": "nfckO3vi2njh",
        "outputId": "df41191f-72ed-49f3-e94c-d2de1c49e936"
      },
      "execution_count": null,
      "outputs": [
        {
          "output_type": "stream",
          "name": "stdout",
          "text": [
            "     stnNm          tm sumRn avgWs maxWd\n",
            "0       서울  2010-01-01         1.9    70\n",
            "1       서울  2010-01-02   1.4   2.8    70\n",
            "2       서울  2010-01-03         2.2   290\n",
            "3       서울  2010-01-04  14.2   3.0    70\n",
            "4       서울  2010-01-05   0.0   2.9   290\n",
            "...    ...         ...   ...   ...   ...\n",
            "4013    서울  2020-12-27   0.0   1.8    70\n",
            "4014    서울  2020-12-28   1.3   1.4    50\n",
            "4015    서울  2020-12-29   0.2   2.9   270\n",
            "4016    서울  2020-12-30         4.1   270\n",
            "4017    서울  2020-12-31   0.0   2.4   270\n",
            "\n",
            "[4018 rows x 5 columns]\n"
          ]
        }
      ]
    },
    {
      "cell_type": "code",
      "source": [
        "sumWs = 0\n",
        "max = 0\n",
        "\n",
        "def delAll(date):\n",
        "  return 'a'\n",
        "\n",
        "def chkTest(date, avgWs):\n",
        "  if(date[:7] == '2010-01'):\n",
        "    return avgWs\n",
        "\n",
        "def chkMax(date, rn):\n",
        "  if(date[:7] == '2010-01' & rn > max):\n",
        "    return rn\n",
        "\n",
        "df1 = pd.DataFrame()\n",
        "df1['풍속'] = df.apply(lambda x: chkTest(x['tm'], x['avgWs']), axis = 1)\n",
        "df1['풍속'] = df1.loc[df1['풍속'].notnull()]\n",
        "df1['풍속'] = df1['풍속'].astype(float)\n",
        "print(df1['풍속'].sum() / df1['풍속'].count())\n",
        "\n",
        "##\n",
        "# print(df1.loc[4013:, '풍속'] == None)\n",
        "# print(df1.loc[4013:, '풍속'] == 'None')\n",
        "# print(df1.isnull()) # 이렇게 찾아내야함!!!!!!!!!\n",
        "##\n",
        "\n",
        "# df.drop()\n",
        "# cnt += df.apply(lambda x: cntTest(x['tm'], x['avgWs']), axis = 1)\n",
        "# print(sumWs / cnt)\n",
        "# print()\n",
        "# max = df.apply(lambda x: chkMax(x['tm'], x['sumRn']), axis = 1)\n",
        "# print(max)"
      ],
      "metadata": {
        "colab": {
          "base_uri": "https://localhost:8080/"
        },
        "id": "X-sjzpjDvkbi",
        "outputId": "ee2d8c61-9b1b-4a0b-de86-b4be1ee93b20"
      },
      "execution_count": null,
      "outputs": [
        {
          "output_type": "stream",
          "name": "stdout",
          "text": [
            "2.338709677419355\n"
          ]
        }
      ]
    },
    {
      "cell_type": "code",
      "source": [
        "## 날씨 데이터 이용하기\n",
        "# 16방위 -> 해당 방위에서 불어오는 바람 (ex: 270이면 서쪽에서 불어오는 바람 -> 서풍)\n",
        "weather_df = pd.read_csv('/content/drive/MyDrive/빅데이터 프로젝트/날씨 자료/weather.csv', encoding='cp949')"
      ],
      "metadata": {
        "id": "ffnmp1zm-wmP"
      },
      "execution_count": null,
      "outputs": []
    },
    {
      "cell_type": "code",
      "source": [
        "weather_df.head()"
      ],
      "metadata": {
        "id": "q52-Pz--_sNq"
      },
      "execution_count": null,
      "outputs": []
    },
    {
      "cell_type": "code",
      "source": [
        "weather_df['지점명'].unique()"
      ],
      "metadata": {
        "id": "fosk0AjaWXUe"
      },
      "execution_count": null,
      "outputs": []
    },
    {
      "cell_type": "code",
      "source": [
        "weather_df.info()"
      ],
      "metadata": {
        "id": "PT-tNPOYg_un"
      },
      "execution_count": null,
      "outputs": []
    },
    {
      "cell_type": "code",
      "source": [
        "# df.loc[df['이름'] == \"나라\", ['취미','학교']]\n",
        "\n",
        "grouped = df_dic['2010년'].groupby(['구분1'])\n",
        "print(grouped.get_group('도시대기')['구분2'].unique())\n",
        "print()\n",
        "\n",
        "# ['서울' '부산' '대구' '인천' '광주' '대전' '울산' '세종' '경기' '강원' '충북' '충남' '전북' '전남' '경북' '경남' '제주'] -> 2016년부터 ~ 2020\n",
        "# ['서울' '부산' '대구' '인천' '광주' '대전' '울산' '경기' '강원' '충북' '충남' '전북' '전남' '경북' '경남' '제주'] -> 총 지역\n",
        "# ['서울' '부산' '대구' '인천' '광주' '대전' '울산' '제주'] -> 날씨 csv에 있는 지역(나머지는 더 세분화 되어있음)\n",
        "my_df = pd.DataFrame(index = grouped.get_group('도시대기')['구분2'].unique())\n",
        "for area in my_df.index:\n",
        "  ### print(weather_df.loc[weather_df['지점명'] == area, :])\n",
        "  ### print(f'지역 : {area}\\n{weather_df.loc[weather_df[\"지점명\"] == area, \"최다풍향(16방위)\"].value_counts()}')\n",
        "  my_df.loc[area, '총합'] = grouped.get_group('도시대기')[grouped.get_group('도시대기')['구분2'] == area].sum()['1월':'12월'].sum()\n",
        "  my_df.loc[area, '데이터개수'] = grouped.get_group('도시대기')[grouped.get_group('도시대기')['구분2'] == area].count()['1월':'12월'].sum()\n",
        "  my_df.loc[area, '평균'] = round(my_df.loc[area, '총합'] / my_df.loc[area, '데이터개수'], 2)\n",
        "\n",
        "my_df"
      ],
      "metadata": {
        "id": "4nA1egZ_AAzW"
      },
      "execution_count": null,
      "outputs": []
    },
    {
      "cell_type": "code",
      "source": [
        "# for df in df_dic.values(): # 년도별 데이터 프레임 ################ 여기부분 concat써서 1월끼리 묶어서 한 번에 하는 게 좋을 거 같음\n",
        "#   for month in range (1, 13): # 해당 년도의 월별 컬럼\n",
        "#     grouped = df.groupby(['구분1'])\n",
        "#     my_df = pd.DataFrame(index = grouped.get_group('도시대기')['구분2'].unique(), columns = [f'{month}월', f'{month}월 데이터 개수', '평균'])\n",
        "\n",
        "#     for area in my_df.index: # \n",
        "#       my_df.loc[area, f'{month}월'] = grouped.get_group('도시대기')[grouped.get_group('도시대기')['구분2'] == area].sum()[f'{month}월']\n",
        "#       my_df.loc[area, f'{month}월 데이터 개수'] = grouped.get_group('도시대기')[grouped.get_group('도시대기')['구분2'] == area].count()[f'{month}월']\n",
        "\n",
        "#     df.loc[area, f'{month}월']\n",
        "\n",
        "for df in df_dic.values():\n",
        "  grouped = df.groupby(['구분1'])\n",
        "  print(grouped.get_group('도시대기')['구분2'].unique())"
      ],
      "metadata": {
        "colab": {
          "base_uri": "https://localhost:8080/"
        },
        "id": "o5025M2VJj1T",
        "outputId": "58536c02-7b73-420e-e8d8-3b0a07334d3b"
      },
      "execution_count": null,
      "outputs": [
        {
          "output_type": "stream",
          "name": "stdout",
          "text": [
            "['서울' '부산' '대구' '인천' '광주' '대전' '울산' '경기' '강원' '충북' '충남' '전북' '전남' '경북'\n",
            " '경남' '제주']\n",
            "['서울' '부산' '대구' '인천' '광주' '대전' '울산' '경기' '강원' '충북' '충남' '전북' '전남' '경북'\n",
            " '경남' '제주']\n",
            "['서울' '부산' '대구' '인천' '광주' '대전' '울산' '경기' '강원' '충북' '충남' '전북' '전남' '경북'\n",
            " '경남' '제주']\n",
            "['서울' '부산' '대구' '인천' '광주' '대전' '울산' '경기' '강원' '충북' '충남' '전북' '전남' '경북'\n",
            " '경남' '제주']\n",
            "['서울' '부산' '대구' '인천' '광주' '대전' '울산' '경기' '강원' '충북' '충남' '전북' '전남' '경북'\n",
            " '경남' '제주']\n",
            "['서울' '부산' '대구' '인천' '광주' '대전' '울산' '경기' '강원' '충북' '충남' '전북' '전남' '경북'\n",
            " '경남' '제주']\n",
            "['서울' '부산' '대구' '인천' '광주' '대전' '울산' '세종' '경기' '강원' '충북' '충남' '전북' '전남'\n",
            " '경북' '경남' '제주']\n",
            "['서울' '부산' '대구' '인천' '광주' '대전' '울산' '세종' '경기' '강원' '충북' '충남' '전북' '전남'\n",
            " '경북' '경남' '제주']\n",
            "['서울' '부산' '대구' '인천' '광주' '대전' '울산' '세종' '경기' '강원' '충북' '충남' '전북' '전남'\n",
            " '경북' '경남' '제주']\n",
            "['서울' '부산' '대구' '인천' '광주' '대전' '울산' '세종' '경기' '강원' '충북' '충남' '전북' '전남'\n",
            " '경북' '경남' '제주']\n",
            "['서울' '부산' '대구' '인천' '광주' '대전' '울산' '세종' '경기' '강원' '충북' '충남' '전북' '전남'\n",
            " '경북' '경남' '제주']\n"
          ]
        }
      ]
    },
    {
      "cell_type": "code",
      "source": [
        "# df_dic에서 각 년도 지역(unique)으로 weather_df에서 겹치는 지역만 남기고 나머진 제외\n",
        "# 고려사항 : weather_df에서의 일시와 df_dic의 년도와 월을 어케 일치 시킬 것인지 생각하기\n",
        "#    1. 하이픈을 제거하고 년 월을 넣기 (df_dic.keys와 month+월을 써서 하면 됨) -> 이거의 경우 weather_df의 일시에서 2010-01 이런식으로 월 부분이 01이라서 애매해짐\n",
        "#    2. 하이픈 제거 하지 않고 그대로 데이터로 넣기 (substring써서 검출) -> df_dic.keys()에서 year[:4]해서 년을 제거하고 1월~ 에서 월을 제거한 뒤 문자열 len이 1일경우 앞에 0을 붙여서 데이터 찾기 ****이것이 유력****\n",
        "def addYear(date):\n",
        "  year = date[:4]\n",
        "  return year\n",
        "\n",
        "def addMonth(date):\n",
        "  month = date[5:7]\n",
        "  return month\n",
        "\n",
        "my_df = weather_df.copy() # copy를 써주는 이유 : 깊은 복사를 통해 원본 데이터(weather_df)를 유지시키기 위해 [https://jimmy-ai.tistory.com/31]\n",
        "my_df['년'] = my_df.apply(lambda x: addYear(x['일시']), axis = 1)\n",
        "my_df['월'] = my_df.apply(lambda x: addMonth(x['일시']), axis = 1)\n",
        "my_df['월'] = my_df['월'].astype(int) # 01월~09월 경우 앞에 0 없애기 위한 int형변환\n",
        "my_df['월'] = my_df['월'].astype(str) # 이후 문자열 형변환\n",
        "my_df"
      ],
      "metadata": {
        "colab": {
          "base_uri": "https://localhost:8080/",
          "height": 424
        },
        "id": "w6CJX5wriAJt",
        "outputId": "248dae2d-c144-48a7-e8eb-a54bf9d9da52"
      },
      "execution_count": null,
      "outputs": [
        {
          "output_type": "execute_result",
          "data": {
            "text/plain": [
              "        지점 지점명       일시  일최다강수량(mm)  평균풍속(m/s)  최다풍향(16방위)     년   월\n",
              "0       90  속초  2010-01        17.5        2.9         290  2010   1\n",
              "1       90  속초  2010-02        28.8        2.4         290  2010   2\n",
              "2       90  속초  2010-03        40.5        2.5         290  2010   3\n",
              "3       90  속초  2010-04        15.5        2.8         290  2010   4\n",
              "4       90  속초  2010-05        93.0        2.7         360  2010   5\n",
              "...    ...  ..      ...         ...        ...         ...   ...  ..\n",
              "12316  295  남해  2020-08        51.4        1.5         200  2020   8\n",
              "12317  295  남해  2020-09       125.4        1.6         250  2020   9\n",
              "12318  295  남해  2020-10        25.3        1.4         250  2020  10\n",
              "12319  295  남해  2020-11        59.6        1.5         250  2020  11\n",
              "12320  295  남해  2020-12         7.8        1.5         250  2020  12\n",
              "\n",
              "[12321 rows x 8 columns]"
            ],
            "text/html": [
              "\n",
              "  <div id=\"df-758cfe48-0c6f-4c99-a8d9-f32ab11e9992\">\n",
              "    <div class=\"colab-df-container\">\n",
              "      <div>\n",
              "<style scoped>\n",
              "    .dataframe tbody tr th:only-of-type {\n",
              "        vertical-align: middle;\n",
              "    }\n",
              "\n",
              "    .dataframe tbody tr th {\n",
              "        vertical-align: top;\n",
              "    }\n",
              "\n",
              "    .dataframe thead th {\n",
              "        text-align: right;\n",
              "    }\n",
              "</style>\n",
              "<table border=\"1\" class=\"dataframe\">\n",
              "  <thead>\n",
              "    <tr style=\"text-align: right;\">\n",
              "      <th></th>\n",
              "      <th>지점</th>\n",
              "      <th>지점명</th>\n",
              "      <th>일시</th>\n",
              "      <th>일최다강수량(mm)</th>\n",
              "      <th>평균풍속(m/s)</th>\n",
              "      <th>최다풍향(16방위)</th>\n",
              "      <th>년</th>\n",
              "      <th>월</th>\n",
              "    </tr>\n",
              "  </thead>\n",
              "  <tbody>\n",
              "    <tr>\n",
              "      <th>0</th>\n",
              "      <td>90</td>\n",
              "      <td>속초</td>\n",
              "      <td>2010-01</td>\n",
              "      <td>17.5</td>\n",
              "      <td>2.9</td>\n",
              "      <td>290</td>\n",
              "      <td>2010</td>\n",
              "      <td>1</td>\n",
              "    </tr>\n",
              "    <tr>\n",
              "      <th>1</th>\n",
              "      <td>90</td>\n",
              "      <td>속초</td>\n",
              "      <td>2010-02</td>\n",
              "      <td>28.8</td>\n",
              "      <td>2.4</td>\n",
              "      <td>290</td>\n",
              "      <td>2010</td>\n",
              "      <td>2</td>\n",
              "    </tr>\n",
              "    <tr>\n",
              "      <th>2</th>\n",
              "      <td>90</td>\n",
              "      <td>속초</td>\n",
              "      <td>2010-03</td>\n",
              "      <td>40.5</td>\n",
              "      <td>2.5</td>\n",
              "      <td>290</td>\n",
              "      <td>2010</td>\n",
              "      <td>3</td>\n",
              "    </tr>\n",
              "    <tr>\n",
              "      <th>3</th>\n",
              "      <td>90</td>\n",
              "      <td>속초</td>\n",
              "      <td>2010-04</td>\n",
              "      <td>15.5</td>\n",
              "      <td>2.8</td>\n",
              "      <td>290</td>\n",
              "      <td>2010</td>\n",
              "      <td>4</td>\n",
              "    </tr>\n",
              "    <tr>\n",
              "      <th>4</th>\n",
              "      <td>90</td>\n",
              "      <td>속초</td>\n",
              "      <td>2010-05</td>\n",
              "      <td>93.0</td>\n",
              "      <td>2.7</td>\n",
              "      <td>360</td>\n",
              "      <td>2010</td>\n",
              "      <td>5</td>\n",
              "    </tr>\n",
              "    <tr>\n",
              "      <th>...</th>\n",
              "      <td>...</td>\n",
              "      <td>...</td>\n",
              "      <td>...</td>\n",
              "      <td>...</td>\n",
              "      <td>...</td>\n",
              "      <td>...</td>\n",
              "      <td>...</td>\n",
              "      <td>...</td>\n",
              "    </tr>\n",
              "    <tr>\n",
              "      <th>12316</th>\n",
              "      <td>295</td>\n",
              "      <td>남해</td>\n",
              "      <td>2020-08</td>\n",
              "      <td>51.4</td>\n",
              "      <td>1.5</td>\n",
              "      <td>200</td>\n",
              "      <td>2020</td>\n",
              "      <td>8</td>\n",
              "    </tr>\n",
              "    <tr>\n",
              "      <th>12317</th>\n",
              "      <td>295</td>\n",
              "      <td>남해</td>\n",
              "      <td>2020-09</td>\n",
              "      <td>125.4</td>\n",
              "      <td>1.6</td>\n",
              "      <td>250</td>\n",
              "      <td>2020</td>\n",
              "      <td>9</td>\n",
              "    </tr>\n",
              "    <tr>\n",
              "      <th>12318</th>\n",
              "      <td>295</td>\n",
              "      <td>남해</td>\n",
              "      <td>2020-10</td>\n",
              "      <td>25.3</td>\n",
              "      <td>1.4</td>\n",
              "      <td>250</td>\n",
              "      <td>2020</td>\n",
              "      <td>10</td>\n",
              "    </tr>\n",
              "    <tr>\n",
              "      <th>12319</th>\n",
              "      <td>295</td>\n",
              "      <td>남해</td>\n",
              "      <td>2020-11</td>\n",
              "      <td>59.6</td>\n",
              "      <td>1.5</td>\n",
              "      <td>250</td>\n",
              "      <td>2020</td>\n",
              "      <td>11</td>\n",
              "    </tr>\n",
              "    <tr>\n",
              "      <th>12320</th>\n",
              "      <td>295</td>\n",
              "      <td>남해</td>\n",
              "      <td>2020-12</td>\n",
              "      <td>7.8</td>\n",
              "      <td>1.5</td>\n",
              "      <td>250</td>\n",
              "      <td>2020</td>\n",
              "      <td>12</td>\n",
              "    </tr>\n",
              "  </tbody>\n",
              "</table>\n",
              "<p>12321 rows × 8 columns</p>\n",
              "</div>\n",
              "      <button class=\"colab-df-convert\" onclick=\"convertToInteractive('df-758cfe48-0c6f-4c99-a8d9-f32ab11e9992')\"\n",
              "              title=\"Convert this dataframe to an interactive table.\"\n",
              "              style=\"display:none;\">\n",
              "        \n",
              "  <svg xmlns=\"http://www.w3.org/2000/svg\" height=\"24px\"viewBox=\"0 0 24 24\"\n",
              "       width=\"24px\">\n",
              "    <path d=\"M0 0h24v24H0V0z\" fill=\"none\"/>\n",
              "    <path d=\"M18.56 5.44l.94 2.06.94-2.06 2.06-.94-2.06-.94-.94-2.06-.94 2.06-2.06.94zm-11 1L8.5 8.5l.94-2.06 2.06-.94-2.06-.94L8.5 2.5l-.94 2.06-2.06.94zm10 10l.94 2.06.94-2.06 2.06-.94-2.06-.94-.94-2.06-.94 2.06-2.06.94z\"/><path d=\"M17.41 7.96l-1.37-1.37c-.4-.4-.92-.59-1.43-.59-.52 0-1.04.2-1.43.59L10.3 9.45l-7.72 7.72c-.78.78-.78 2.05 0 2.83L4 21.41c.39.39.9.59 1.41.59.51 0 1.02-.2 1.41-.59l7.78-7.78 2.81-2.81c.8-.78.8-2.07 0-2.86zM5.41 20L4 18.59l7.72-7.72 1.47 1.35L5.41 20z\"/>\n",
              "  </svg>\n",
              "      </button>\n",
              "      \n",
              "  <style>\n",
              "    .colab-df-container {\n",
              "      display:flex;\n",
              "      flex-wrap:wrap;\n",
              "      gap: 12px;\n",
              "    }\n",
              "\n",
              "    .colab-df-convert {\n",
              "      background-color: #E8F0FE;\n",
              "      border: none;\n",
              "      border-radius: 50%;\n",
              "      cursor: pointer;\n",
              "      display: none;\n",
              "      fill: #1967D2;\n",
              "      height: 32px;\n",
              "      padding: 0 0 0 0;\n",
              "      width: 32px;\n",
              "    }\n",
              "\n",
              "    .colab-df-convert:hover {\n",
              "      background-color: #E2EBFA;\n",
              "      box-shadow: 0px 1px 2px rgba(60, 64, 67, 0.3), 0px 1px 3px 1px rgba(60, 64, 67, 0.15);\n",
              "      fill: #174EA6;\n",
              "    }\n",
              "\n",
              "    [theme=dark] .colab-df-convert {\n",
              "      background-color: #3B4455;\n",
              "      fill: #D2E3FC;\n",
              "    }\n",
              "\n",
              "    [theme=dark] .colab-df-convert:hover {\n",
              "      background-color: #434B5C;\n",
              "      box-shadow: 0px 1px 3px 1px rgba(0, 0, 0, 0.15);\n",
              "      filter: drop-shadow(0px 1px 2px rgba(0, 0, 0, 0.3));\n",
              "      fill: #FFFFFF;\n",
              "    }\n",
              "  </style>\n",
              "\n",
              "      <script>\n",
              "        const buttonEl =\n",
              "          document.querySelector('#df-758cfe48-0c6f-4c99-a8d9-f32ab11e9992 button.colab-df-convert');\n",
              "        buttonEl.style.display =\n",
              "          google.colab.kernel.accessAllowed ? 'block' : 'none';\n",
              "\n",
              "        async function convertToInteractive(key) {\n",
              "          const element = document.querySelector('#df-758cfe48-0c6f-4c99-a8d9-f32ab11e9992');\n",
              "          const dataTable =\n",
              "            await google.colab.kernel.invokeFunction('convertToInteractive',\n",
              "                                                     [key], {});\n",
              "          if (!dataTable) return;\n",
              "\n",
              "          const docLinkHtml = 'Like what you see? Visit the ' +\n",
              "            '<a target=\"_blank\" href=https://colab.research.google.com/notebooks/data_table.ipynb>data table notebook</a>'\n",
              "            + ' to learn more about interactive tables.';\n",
              "          element.innerHTML = '';\n",
              "          dataTable['output_type'] = 'display_data';\n",
              "          await google.colab.output.renderOutput(dataTable, element);\n",
              "          const docLink = document.createElement('div');\n",
              "          docLink.innerHTML = docLinkHtml;\n",
              "          element.appendChild(docLink);\n",
              "        }\n",
              "      </script>\n",
              "    </div>\n",
              "  </div>\n",
              "  "
            ]
          },
          "metadata": {},
          "execution_count": 88
        }
      ]
    },
    {
      "cell_type": "code",
      "source": [
        "for year in df_dic.keys():\n",
        "  grouped = df_dic[year].groupby(['구분1'])\n",
        "  grouped.get_group('도시대기')['구분2'].unique()\n",
        "  \n",
        "  print(grouped.get_group('도시대기').columns)\n",
        "  # print(weather_df[weather_df['일시'] == f'{year[:4]}-{month}'])"
      ],
      "metadata": {
        "colab": {
          "base_uri": "https://localhost:8080/"
        },
        "id": "RrJH63vxHczE",
        "outputId": "bb616cfe-5ec0-479b-85df-4a57ea56cfce"
      },
      "execution_count": null,
      "outputs": [
        {
          "output_type": "stream",
          "name": "stdout",
          "text": [
            "Index(['구분1', '구분2', '구분3', '구분4', '1월', '2월', '3월', '4월', '5월', '6월', '7월',\n",
            "       '8월', '9월', '10월', '11월', '12월'],\n",
            "      dtype='object')\n",
            "Index(['구분1', '구분2', '구분3', '구분4', '1월', '2월', '3월', '4월', '5월', '6월', '7월',\n",
            "       '8월', '9월', '10월', '11월', '12월'],\n",
            "      dtype='object')\n",
            "Index(['구분1', '구분2', '구분3', '구분4', '1월', '2월', '3월', '4월', '5월', '6월', '7월',\n",
            "       '8월', '9월', '10월', '11월', '12월'],\n",
            "      dtype='object')\n",
            "Index(['구분1', '구분2', '구분3', '구분4', '1월', '2월', '3월', '4월', '5월', '6월', '7월',\n",
            "       '8월', '9월', '10월', '11월', '12월'],\n",
            "      dtype='object')\n",
            "Index(['구분1', '구분2', '구분3', '구분4', '1월', '2월', '3월', '4월', '5월', '6월', '7월',\n",
            "       '8월', '9월', '10월', '11월', '12월'],\n",
            "      dtype='object')\n",
            "Index(['구분1', '구분2', '구분3', '구분4', '1월', '2월', '3월', '4월', '5월', '6월', '7월',\n",
            "       '8월', '9월', '10월', '11월', '12월'],\n",
            "      dtype='object')\n",
            "Index(['구분1', '구분2', '구분3', '구분4', '1월', '2월', '3월', '4월', '5월', '6월', '7월',\n",
            "       '8월', '9월', '10월', '11월', '12월'],\n",
            "      dtype='object')\n",
            "Index(['구분1', '구분2', '구분3', '구분4', '1월', '2월', '3월', '4월', '5월', '6월', '7월',\n",
            "       '8월', '9월', '10월', '11월', '12월'],\n",
            "      dtype='object')\n",
            "Index(['구분1', '구분2', '구분3', '구분4', '1월', '2월', '3월', '4월', '5월', '6월', '7월',\n",
            "       '8월', '9월', '10월', '11월', '12월'],\n",
            "      dtype='object')\n",
            "Index(['구분1', '구분2', '구분3', '구분4', '1월', '2월', '3월', '4월', '5월', '6월', '7월',\n",
            "       '8월', '9월', '10월', '11월', '12월'],\n",
            "      dtype='object')\n",
            "Index(['구분1', '구분2', '구분3', '구분4', '1월', '2월', '3월', '4월', '5월', '6월', '7월',\n",
            "       '8월', '9월', '10월', '11월', '12월'],\n",
            "      dtype='object')\n"
          ]
        }
      ]
    }
  ]
}